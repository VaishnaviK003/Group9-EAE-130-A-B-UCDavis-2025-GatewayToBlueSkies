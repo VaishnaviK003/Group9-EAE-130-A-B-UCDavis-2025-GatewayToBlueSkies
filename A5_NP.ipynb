{
 "cells": [
  {
   "cell_type": "code",
   "execution_count": 97,
   "metadata": {},
   "outputs": [
    {
     "name": "stdout",
     "output_type": "stream",
     "text": [
      "Estimated Vertical Tail Area (ft^2): 32.58\n",
      "Estimated Horizontal Tail Area (ft^2): 43.64\n",
      "Actual Vertical Tail Area (ft^2): 30\n",
      "Actual Horizontal Tail Area (ft^2): 50\n"
     ]
    }
   ],
   "source": [
    "import math\n",
    "import numpy as np\n",
    "import matplotlib.pyplot as plt\n",
    "\n",
    "\n",
    "# Metabook pg.76 for xcg estimations \n",
    "\n",
    "c_VT = 0.04 # vertical tail volume coefficient - fixed\n",
    "L_VT = 0.66*35 # ft 31.65 # ft vertical tail moment arm\n",
    "#S_VT = 100 # vertical tail planform area\n",
    "b_W = 56 # ft # 60.90 # wing span (tip-to-tip) - fixed\n",
    "S_W = 336 # ft^2 # 427.8 # wing area - fixed\n",
    "c_HT = 0.5 # horizontal tail volume coefficient - fixed\n",
    "L_HT = 0.66*35 # ft 32.95 # ft horizontal tail moment arm\n",
    "#S_HT = 50 # horizontal tail planform area\n",
    "c_W = 6 # ft 8.75 # wing mean chord - fixed\n",
    "\n",
    "\n",
    "# Empennage\n",
    "L_vt = L_VT # ft\n",
    "\n",
    "# Wing\n",
    "b_w = b_W # ft\n",
    "c_w = c_W # ft\n",
    "S_w = S_W # ft^2\n",
    "\n",
    "# Horizontal Tail (ft)\n",
    "L_ht = L_HT\n",
    "\n",
    "# Estimated Vertical Tail Area (ft^2)\n",
    "S_vt = (c_VT * b_w * S_w) / L_vt \n",
    "\n",
    "# Estimated Horizontal Tail Area (ft^2)\n",
    "S_ht = (c_HT * c_w * S_w) / L_ht\n",
    "\n",
    "# Actual vertical and horizontal tail areas (ft^2)\n",
    "S_vt_actual = 30 # ft^2 - actual vertical tail area from design or from AT602 data (?)\n",
    "S_ht_actual = 50 # ft^2 - actual horizontal tail area from design or from AT602 data (?)\n",
    "S_vt_actual = S_vt_actual\n",
    "S_ht_actual = S_ht_actual\n",
    "\n",
    "print(\"Estimated Vertical Tail Area (ft^2): \" + str(np.round(S_vt, 2)))\n",
    "print(\"Estimated Horizontal Tail Area (ft^2): \" + str(np.round(S_ht, 2)))\n",
    "print(\"Actual Vertical Tail Area (ft^2): \" + str(np.round(S_vt_actual, 2)))\n",
    "print(\"Actual Horizontal Tail Area (ft^2): \" + str(np.round(S_ht_actual, 2)))\n",
    "\n"
   ]
  },
  {
   "cell_type": "code",
   "execution_count": 98,
   "metadata": {},
   "outputs": [
    {
     "name": "stdout",
     "output_type": "stream",
     "text": [
      "Lift curve slope of the wing (1/radians): 4.6147\n",
      "Lift curve slope of the tail (1/radians): 5.4009\n"
     ]
    }
   ],
   "source": [
    "# Longitudinal Stability (SM Estimations)\n",
    "\n",
    "# dClw_da = 0.16 # wing lift curve slope\n",
    "# dClt_da = 0.1 # tail lift curve slope\n",
    "AR_w = 50 / 8 # 8.67 # aspect ratio of the wing - fixed\n",
    "AR_t = 25 / 2 # 4.5 # aspect ratio of the tail - fixed\n",
    "\n",
    "# Constants to account for the difference between the \n",
    "# theoretical section lift curve slope of 2pi and the actual value\n",
    "\n",
    "eta_w = 0.97 # wing section lift curve difference \n",
    "eta_t = 0.97 # tail section lift curve difference \n",
    "\n",
    "del_w = 2 # 31.6 # sweep angle (deg)\n",
    "lambda_w = np.deg2rad(del_w)\n",
    "\n",
    "del_t = 0 # 35 # sweep angle (deg)\n",
    "lambda_t = np.deg2rad(del_t)\n",
    "\n",
    "Ma = 0.2772 # 0.87 # mach number for cruise speed\n",
    "\n",
    "# Lift curve slope of the wing (1/rad)\n",
    "CL_a_w = (2 * np.pi * AR_w) / (((2) + (np.sqrt(((( AR_w / eta_w )**2) * (1 + (np.tan(lambda_w))**2 - Ma**2)) + (4)))))\n",
    "\n",
    "# Lift curve slope of the tail (1/rad)\n",
    "CL_a_t0 = (2 * np.pi * AR_t) / (((2) + (np.sqrt(((( AR_t / eta_t )**2) * (1 + (np.tan(lambda_t))**2 - Ma**2)) + (4)))))\n",
    "\n",
    "print(\"Lift curve slope of the wing (1/radians): \" + str(round(CL_a_w, 4)))\n",
    "print(\"Lift curve slope of the tail (1/radians): \" + str(round(CL_a_t0, 4)))\n",
    "\n",
    "\n"
   ]
  },
  {
   "cell_type": "code",
   "execution_count": 99,
   "metadata": {},
   "outputs": [
    {
     "name": "stdout",
     "output_type": "stream",
     "text": [
      "Downwash (1/radians): 0.47\n"
     ]
    }
   ],
   "source": [
    "# Downwash effects\n",
    "\n",
    "de_da = 2 * CL_a_w / (np.pi * AR_w)\n",
    "print(\"Downwash (1/radians): \" + str(round(de_da, 4)))"
   ]
  },
  {
   "cell_type": "code",
   "execution_count": 100,
   "metadata": {},
   "outputs": [
    {
     "name": "stdout",
     "output_type": "stream",
     "text": [
      "Lift curve slope of the horizontal tail corrected for downwash (1/radians): 10.1913\n"
     ]
    }
   ],
   "source": [
    "# Correcting for downwash\n",
    "\n",
    "Cl_a_t = CL_a_t0 / (1 - de_da)\n",
    "print(\"Lift curve slope of the horizontal tail corrected for downwash (1/radians): \" + str(round(Cl_a_t, 4)))"
   ]
  },
  {
   "cell_type": "code",
   "execution_count": 101,
   "metadata": {},
   "outputs": [
    {
     "name": "stdout",
     "output_type": "stream",
     "text": [
      "0.032354304827557155\n"
     ]
    }
   ],
   "source": [
    "# Fuselage\n",
    "\n",
    "K_f = 0.344 # emperical factor (estimated)\n",
    "L_f = 35 # ft - fuselage length\n",
    "W_f = 5 # 6.2 # ft - fuselage width\n",
    "\n",
    "Lf = L_f # m_to_ft(L_f)\n",
    "Wf = W_f # m_to_ft(W_f)\n",
    "\n",
    "dCmf_dCL = (K_f * (Wf ** 2) * Lf) / (S_w * c_w * CL_a_w)\n",
    "print(dCmf_dCL)"
   ]
  },
  {
   "cell_type": "code",
   "execution_count": 102,
   "metadata": {},
   "outputs": [
    {
     "name": "stdout",
     "output_type": "stream",
     "text": [
      "SM = -0.34654474197128915\n"
     ]
    }
   ],
   "source": [
    "# Calculating SM\n",
    "\n",
    "x_cg = 35 * 0.33 # ft - Aircraft center of gravity assumed\n",
    "x_25MAC = 0.25 * x_cg # ft - Distance from nose to 25% MAC assumed\n",
    "\n",
    "SM = (x_cg - x_25MAC) / (c_w) - (Cl_a_t * S_ht * L_ht) / (CL_a_w * S_w * c_w) + dCmf_dCL / CL_a_w\n",
    "print(\"SM = \" + str(-SM))"
   ]
  }
 ],
 "metadata": {
  "kernelspec": {
   "display_name": "base",
   "language": "python",
   "name": "python3"
  },
  "language_info": {
   "codemirror_mode": {
    "name": "ipython",
    "version": 3
   },
   "file_extension": ".py",
   "mimetype": "text/x-python",
   "name": "python",
   "nbconvert_exporter": "python",
   "pygments_lexer": "ipython3",
   "version": "3.12.4"
  }
 },
 "nbformat": 4,
 "nbformat_minor": 2
}
