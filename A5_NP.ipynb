{
 "cells": [
  {
   "cell_type": "code",
   "execution_count": null,
   "metadata": {},
   "outputs": [
    {
     "name": "stdout",
     "output_type": "stream",
     "text": [
      "Estimated Vertical Tail Area (ft^2): 575.93\n",
      "Estimated Horizontal Tail Area (ft^2): 1089.53\n",
      "Actual Vertical Tail Area (ft^2): 572.96\n",
      "Actual Horizontal Tail Area (ft^2): 1089.95\n"
     ]
    }
   ],
   "source": [
    "import math\n",
    "import numpy as np\n",
    "import matplotlib.pyplot as plt\n",
    "\n",
    "c_VT = 0.065 # vertical tail volume coefficient \n",
    "L_VT = 31.65 # vertical tail moment arm\n",
    "#S_VT = 100 # vertical tail planform area\n",
    "b_W = 60.90 # wing span (tip-to-tip)\n",
    "S_W = 427.8 # wing area\n",
    "c_HT = 0.891 # horizontal tail volume coefficient\n",
    "L_HT = 32.95 # horizontal tail moment arm\n",
    "#S_HT = 50 # horizontal tail planform area\n",
    "c_W = 8.75 # wing mean chord\n",
    "\n",
    "\n",
    "##### MIGHT NOT NEED THIS SECTION IF OUR DATA COMES IN IMPERICAL UNITS #####\n",
    "def m_to_ft(m):\n",
    "    return m * 3.28084\n",
    "\n",
    "def sqm_to_sqft(sq_m):\n",
    "    return sq_m * 10.7639\n",
    "\n",
    "# Empennage\n",
    "L_vt = m_to_ft(L_VT) # ft\n",
    "\n",
    "# Wing\n",
    "b_w = m_to_ft(b_W) # ft\n",
    "c_w = m_to_ft(c_W) # ft\n",
    "S_w = sqm_to_sqft(S_W) # ft^2\n",
    "\n",
    "# Horizontal Tail (ft)\n",
    "L_ht = m_to_ft(L_HT)\n",
    "\n",
    "# Estimated Vertical Tail Area (ft^2)\n",
    "S_vt = (c_VT * b_w * S_w) / L_vt \n",
    "\n",
    "# Estimated Horizontal Tail Area (ft^2)\n",
    "S_ht = (c_HT * c_w * S_w) / L_ht\n",
    "\n",
    "# Actual vertical and horizontal tail areas (ft^2)\n",
    "S_vt_actual = 53.23 # m - actual vertical tail area from design or from AT602 data (?)\n",
    "S_ht_actual = 101.26 # m - actual horizontal tail area from design or from AT602 data (?)\n",
    "S_vt_actual = sqm_to_sqft(S_vt_actual)\n",
    "S_ht_actual = sqm_to_sqft(S_ht_actual)\n",
    "\n",
    "print(\"Estimated Vertical Tail Area (ft^2): \" + str(np.round(S_vt, 2)))\n",
    "print(\"Estimated Horizontal Tail Area (ft^2): \" + str(np.round(S_ht, 2)))\n",
    "print(\"Actual Vertical Tail Area (ft^2): \" + str(np.round(S_vt_actual, 2)))\n",
    "print(\"Actual Horizontal Tail Area (ft^2): \" + str(np.round(S_ht_actual, 2)))\n",
    "\n"
   ]
  },
  {
   "cell_type": "code",
   "execution_count": 9,
   "metadata": {},
   "outputs": [
    {
     "name": "stdout",
     "output_type": "stream",
     "text": [
      "Lift curve slope of the wing (1/radians): 5.8417\n",
      "Lift curve slope of the tail (1/radians): 4.2038\n"
     ]
    }
   ],
   "source": [
    "# Longitudinal Stability (SM Estimations)\n",
    "\n",
    "dClw_da = 0.11 # wing lift curve slope\n",
    "dClt_da = 0.11 # tail lift curve slope\n",
    "AR_w = 8.67 # aspect ratio of the wing\n",
    "AR_t = 4.5 # aspect ratio of the tail\n",
    "\n",
    "# Constants to account for the difference between the \n",
    "# theoretical section lift curve slope of 2pi and the actual value\n",
    "\n",
    "eta_w = 0.97 # wing section lift curve difference \n",
    "eta_t = 0.90 # tail section lift curve difference \n",
    "\n",
    "del_w = 31.6 # sweep angle (deg)\n",
    "lambda_w = np.deg2rad(del_w)\n",
    "\n",
    "del_t = 35 # sweep angle (deg)\n",
    "lambda_t = np.deg2rad(del_t)\n",
    "\n",
    "Ma = 0.87 # mach number for cruise speed\n",
    "\n",
    "# Lift curve slope of the wing (1/rad)\n",
    "CL_a_w = (2 * np.pi * AR_w) / (((2) + (np.sqrt(((( AR_w / eta_w )**2) * (1 + (np.tan(lambda_w))**2 - Ma**2)) + (4)))))\n",
    "\n",
    "# Lift curve slope of the tail (1/rad)\n",
    "CL_a_t0 = (2 * np.pi * AR_t) / (((2) + (np.sqrt(((( AR_t / eta_t )**2) * (1 + (np.tan(lambda_t))**2 - Ma**2)) + (4)))))\n",
    "\n",
    "print(\"Lift curve slope of the wing (1/radians): \" + str(round(CL_a_w, 4)))\n",
    "print(\"Lift curve slope of the tail (1/radians): \" + str(round(CL_a_t0, 4)))\n",
    "\n",
    "\n"
   ]
  },
  {
   "cell_type": "code",
   "execution_count": 10,
   "metadata": {},
   "outputs": [
    {
     "name": "stdout",
     "output_type": "stream",
     "text": [
      "Downwash (1/radians): 0.4289\n"
     ]
    }
   ],
   "source": [
    "# Downwash effects\n",
    "\n",
    "de_da = 2 * CL_a_w / (np.pi * AR_w)\n",
    "print(\"Downwash (1/radians): \" + str(round(de_da, 4)))"
   ]
  },
  {
   "cell_type": "code",
   "execution_count": null,
   "metadata": {},
   "outputs": [
    {
     "name": "stdout",
     "output_type": "stream",
     "text": [
      "Lift curve slope of the horizontal tail corrected for downwash (1/radians): 7.3614\n"
     ]
    }
   ],
   "source": [
    "# Correcting for downwash\n",
    "\n",
    "Cl_a_t = CL_a_t0 / (1 - de_da)\n",
    "print(\"Lift curve slope of the horizontal tail corrected for downwash (1/radians): \" + str(round(Cl_a_t, 4)))"
   ]
  },
  {
   "cell_type": "code",
   "execution_count": 20,
   "metadata": {},
   "outputs": [
    {
     "name": "stdout",
     "output_type": "stream",
     "text": [
      "0.0440716340726913\n"
     ]
    }
   ],
   "source": [
    "# Fuselage\n",
    "\n",
    "K_f = 0.344 # emperical factor (estimated)\n",
    "L_f = 72.88 # m - fuselage length\n",
    "W_f = 6.2 # m - fuselage width\n",
    "\n",
    "Lf = m_to_ft(L_f)\n",
    "Wf = m_to_ft(W_f)\n",
    "\n",
    "dCmf_dCL = (K_f * (Wf ** 2) * Lf) / (S_w * c_w * CL_a_w)\n",
    "print(dCmf_dCL)"
   ]
  },
  {
   "cell_type": "code",
   "execution_count": 21,
   "metadata": {},
   "outputs": [
    {
     "name": "stdout",
     "output_type": "stream",
     "text": [
      "SM = 0.07021145542157617\n"
     ]
    }
   ],
   "source": [
    "# Calculating SM\n",
    "\n",
    "x_cg = 135 # ft - Aircraft center of gravity assumed\n",
    "x_25MAC = 105 # ft - Distance from nose to 25% MAC assumed\n",
    "\n",
    "SM = (x_cg - x_25MAC) / (c_w) - (Cl_a_t * S_ht * L_ht) / (CL_a_w * S_w * c_w) + dCmf_dCL / CL_a_w\n",
    "print(\"SM = \" + str(-SM))"
   ]
  }
 ],
 "metadata": {
  "kernelspec": {
   "display_name": "base",
   "language": "python",
   "name": "python3"
  },
  "language_info": {
   "codemirror_mode": {
    "name": "ipython",
    "version": 3
   },
   "file_extension": ".py",
   "mimetype": "text/x-python",
   "name": "python",
   "nbconvert_exporter": "python",
   "pygments_lexer": "ipython3",
   "version": "3.12.7"
  }
 },
 "nbformat": 4,
 "nbformat_minor": 2
}
