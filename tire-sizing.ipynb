{
 "cells": [
  {
   "cell_type": "code",
   "execution_count": 8,
   "metadata": {},
   "outputs": [
    {
     "name": "stdout",
     "output_type": "stream",
     "text": [
      "max static load on nose wheels=3495.0110970996216\n",
      "max static load on main wheels=739.1692077598418\n",
      "weight_on_wheel_n=4743.798991172762\n",
      "weight_on_wheel_m=739.1692077598418\n",
      "dynamic braking load=1248.7878940731398\n",
      "lim1=0.6621712944424855\n",
      "lim2=0.798677124565727\n"
     ]
    }
   ],
   "source": [
    "# loads\n",
    "fwd_cg= 13.108980804387569\n",
    "aft_cg= 15.27396327014218\n",
    "tire_n_center= 9.916\n",
    "tire_m_center= 25.776\n",
    "Na = aft_cg-tire_n_center # distance between center of nose tire to aft cg\n",
    "w =  8752 # full weight/ maximum take off weight in lbs\n",
    "b = tire_m_center-tire_n_center # distance between centers of nose and main tires\n",
    "Mf = tire_m_center-fwd_cg # distance between center of main wheel to fwd cg\n",
    "Ma = tire_m_center-aft_cg # distance between center of main wheel to aft cg\n",
    "h = 7.3 # vertical distance from ground to both cg's or height from ground to cg's\n",
    "num_m= 4 # number of main tires\n",
    "num_n= 2 # number of nose tires\n",
    "Max_load_m= (w*(Na/b))/num_m\n",
    "Max_load_n= w*(Mf/b)/num_n\n",
    "Dyn_braking_load_n= (0.31)*w*(h/b)\n",
    "weight_on_wheel_n= Dyn_braking_load_n + Max_load_n\n",
    "weight_on_wheel_m= Max_load_m\n",
    "print('max static load on nose wheels='+str(Max_load_n))\n",
    "print('max static load on main wheels='+str(Max_load_m))\n",
    "print('weight_on_wheel_n='+str(weight_on_wheel_n))\n",
    "print('weight_on_wheel_m='+str(weight_on_wheel_m))\n",
    "print('dynamic braking load='+str(Dyn_braking_load_n))\n",
    "#loading limits\n",
    "\n",
    "lim1= Ma/b # must be greater than 0.05\n",
    "lim2= Mf/b # must be less than 0.2\n",
    "\n",
    "print('lim1='+str(lim1))\n",
    "print('lim2='+ str(lim2))\n",
    "\n",
    "# sizing according to general aviation table\n",
    "A= 1.51\n",
    "B= 0.349\n",
    "A_w= 0.7150\n",
    "B_w = 0.312\n",
    "diameter_m = A*((weight_on_wheel_m)**B)\n",
    "diameter_n= 0.7*diameter_m # 60 to 100 percent of main tire's diameter\n",
    "width_m=A_w*((weight_on_wheel_m)**B_w)\n",
    "width_n= 1 # is the width also 60 to 100 percent of main???\n",
    "\n",
    "# braking kinetic energy\n",
    "W_land= 1 # landing weight between 80 and 100 percent takeoff weight\n",
    "g=1\n",
    "v_stall= 20\n",
    "braking_ke= 0.5*(W_land/g)*(v_stall**2)\n",
    "\n",
    "\n",
    "\n",
    "\n",
    "\n",
    "\n",
    "\n",
    "\n",
    "\n",
    "\n"
   ]
  }
 ],
 "metadata": {
  "kernelspec": {
   "display_name": "Python 3",
   "language": "python",
   "name": "python3"
  },
  "language_info": {
   "codemirror_mode": {
    "name": "ipython",
    "version": 3
   },
   "file_extension": ".py",
   "mimetype": "text/x-python",
   "name": "python",
   "nbconvert_exporter": "python",
   "pygments_lexer": "ipython3",
   "version": "3.12.4"
  }
 },
 "nbformat": 4,
 "nbformat_minor": 2
}
