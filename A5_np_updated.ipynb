{
 "cells": [
  {
   "cell_type": "code",
   "execution_count": 34,
   "metadata": {},
   "outputs": [
    {
     "name": "stdout",
     "output_type": "stream",
     "text": [
      "Vertical tail moment arm: 19.516666666666666\n",
      "Horizontal tail moment arm: 15.25\n",
      "Neutral point of the aircraft from the nose end (ft):  15.99\n"
     ]
    }
   ],
   "source": [
    "import numpy as np\n",
    "\n",
    "L_f = 40 \n",
    "W_f = 5\n",
    "C_VT = 0.04\n",
    "b_w = 60\n",
    "C_HT = 0.5\n",
    "c_w = 7 # (2/3)*7 + (1/3)*3\n",
    "S_W = 420\n",
    "MAC_w = 0.25 * c_w\n",
    "\n",
    "# Empennage\n",
    "a = 40 - (14 + (0.25*7))\n",
    "b = 40 - (30 + (0.25*4))\n",
    "d = (2/3) * 7 * (1 + (3/7) + (3/7)**2) / (1 + (3/7))\n",
    "c = 40 - (30 + d)\n",
    "L_ht = a-b\n",
    "L_vt = a - c\n",
    "print(\"Vertical tail moment arm: \" + str(L_vt))\n",
    "print(\"Horizontal tail moment arm: \" + str(L_ht))\n",
    "\n",
    "# Estimated Vertical Tail Area (ft^2)\n",
    "S_vt = (C_VT * b_w * S_W) / L_vt \n",
    "\n",
    "# Estimated Horizontal Tail Area (ft^2)\n",
    "S_ht = (C_HT * c_w * S_W) / L_ht\n",
    "\n",
    "AR_w = b_w / c_w # 8.67 # aspect ratio of the wing - fixed\n",
    "AR_t = 19 / 4 # 4.5 # aspect ratio of the tail - fixed\n",
    "\n",
    "# Constants to account for the difference between the \n",
    "# theoretical section lift curve slope of 2pi and the actual value\n",
    "\n",
    "eta_w = 0.97 # wing section lift curve difference \n",
    "eta_t = 0.97 # tail section lift curve difference \n",
    "\n",
    "del_w = 2 # 31.6 # sweep angle (deg)\n",
    "lambda_w = np.deg2rad(del_w)\n",
    "\n",
    "del_ht = 0 # 35 # sweep angle (deg)\n",
    "lambda_ht = np.deg2rad(del_ht)\n",
    "\n",
    "del_vt = 20\n",
    "lambda_vt = np.deg2rad(del_vt)\n",
    "\n",
    "Ma = 0.195 # 0.87 # mach number for cruise speed\n",
    "\n",
    "# Lift curve slope of the wing (1/rad)\n",
    "CL_a_w = (2 * np.pi * AR_w) / (((2) + (np.sqrt(((( AR_w / eta_w )**2) * (1 + (np.tan(lambda_w))**2 - Ma**2)) + (4)))))\n",
    "\n",
    "# Lift curve slope of the tail (1/rad)\n",
    "CL_a_t0 = (2 * np.pi * AR_t) / (((2) + (np.sqrt(((( AR_t / eta_t )**2) * (1 + (np.tan(lambda_ht))**2 - Ma**2)) + (4)))))\n",
    "\n",
    "de_da = 2 * CL_a_w / (np.pi * AR_w)\n",
    "\n",
    "Cl_a_t = CL_a_t0 * (1 - de_da) * eta_t\n",
    "\n",
    "# Fuselage\n",
    "\n",
    "K_f = 0.017 # using plot on slide 39 of lec 11 slides\n",
    "\n",
    "dCmf_dCL = (K_f * (W_f ** 2) * L_f) / (S_W * MAC_w * CL_a_w)\n",
    "x_np = 14.2 + (MAC_w * (((L_ht * S_ht) / (MAC_w * S_W)) * (Cl_a_t / CL_a_w) - ((dCmf_dCL))))\n",
    "\n",
    "print(\"Neutral point of the aircraft from the nose end (ft): \", str(np.round(x_np, 2)))\n"
   ]
  },
  {
   "cell_type": "code",
   "execution_count": 35,
   "metadata": {},
   "outputs": [
    {
     "name": "stdout",
     "output_type": "stream",
     "text": [
      "0.14320939767081192\n"
     ]
    }
   ],
   "source": [
    "#SM = 0.11\n",
    "c = 0.25*7\n",
    "\n",
    "#xcg = x_np - (SM * c)\n",
    "\n",
    "#print(xcg)\n",
    "\n",
    "x_cg = 15.74352853\n",
    "\n",
    "sm = (x_np - x_cg) / c\n",
    "\n",
    "print(sm)"
   ]
  }
 ],
 "metadata": {
  "kernelspec": {
   "display_name": "base",
   "language": "python",
   "name": "python3"
  },
  "language_info": {
   "codemirror_mode": {
    "name": "ipython",
    "version": 3
   },
   "file_extension": ".py",
   "mimetype": "text/x-python",
   "name": "python",
   "nbconvert_exporter": "python",
   "pygments_lexer": "ipython3",
   "version": "3.12.7"
  }
 },
 "nbformat": 4,
 "nbformat_minor": 2
}
