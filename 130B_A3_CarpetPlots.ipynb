{
 "cells": [
  {
   "cell_type": "code",
   "execution_count": 83,
   "id": "aa76f2e7-f402-4732-8f55-42433a6550a1",
   "metadata": {},
   "outputs": [
    {
     "name": "stdout",
     "output_type": "stream",
     "text": [
      "[ 88.          88.57575758  89.15151515  89.72727273  90.3030303\n",
      "  90.87878788  91.45454545  92.03030303  92.60606061  93.18181818\n",
      "  93.75757576  94.33333333  94.90909091  95.48484848  96.06060606\n",
      "  96.63636364  97.21212121  97.78787879  98.36363636  98.93939394\n",
      "  99.51515152 100.09090909 100.66666667 101.24242424 101.81818182\n",
      " 102.39393939 102.96969697 103.54545455 104.12121212 104.6969697\n",
      " 105.27272727 105.84848485 106.42424242 107.         107.57575758\n",
      " 108.15151515 108.72727273 109.3030303  109.87878788 110.45454545\n",
      " 111.03030303 111.60606061 112.18181818 112.75757576 113.33333333\n",
      " 113.90909091 114.48484848 115.06060606 115.63636364 116.21212121\n",
      " 116.78787879 117.36363636 117.93939394 118.51515152 119.09090909\n",
      " 119.66666667 120.24242424 120.81818182 121.39393939 121.96969697\n",
      " 122.54545455 123.12121212 123.6969697  124.27272727 124.84848485\n",
      " 125.42424242 126.         126.57575758 127.15151515 127.72727273\n",
      " 128.3030303  128.87878788 129.45454545 130.03030303 130.60606061\n",
      " 131.18181818 131.75757576 132.33333333 132.90909091 133.48484848\n",
      " 134.06060606 134.63636364 135.21212121 135.78787879 136.36363636\n",
      " 136.93939394 137.51515152 138.09090909 138.66666667 139.24242424\n",
      " 139.81818182 140.39393939 140.96969697 141.54545455 142.12121212\n",
      " 142.6969697  143.27272727 143.84848485 144.42424242 145.        ]\n",
      "[15.666112   15.89064125 16.11700373 16.34520423 16.57524753 16.80713841\n",
      " 17.04088166 17.27648205 17.51394436 17.75327338 17.9944739  18.23755068\n",
      " 18.48250851 18.72935218 18.97808647 19.22871615 19.48124601 19.73568083\n",
      " 19.99202539 20.25028448 20.51046287 20.77256535 21.03659669 21.30256169\n",
      " 21.57046511 21.84031175 22.11210639 22.3858538  22.66155877 22.93922608\n",
      " 23.2188605  23.50046684 23.78404985 24.06961433 24.35716506 24.64670682\n",
      " 24.93824439 25.23178255 25.52732608 25.82487977 26.1244484  26.42603674\n",
      " 26.72964959 27.03529171 27.3429679  27.65268294 27.9644416  28.27824866\n",
      " 28.59410892 28.91202715 29.23200813 29.55405665 29.87817748 30.20437541\n",
      " 30.53265522 30.86302169 31.1954796  31.53003374 31.86668888 32.20544981\n",
      " 32.54632131 32.88930815 33.23441513 33.58164703 33.93100861 34.28250468\n",
      " 34.63614    34.99191936 35.34984755 35.70992933 36.0721695  36.43657284\n",
      " 36.80314413 37.17188814 37.54280967 37.91591348 38.29120438 38.66868712\n",
      " 39.04836651 39.43024731 39.81433432 40.2006323  40.58914605 40.97988035\n",
      " 41.37283997 41.7680297  42.16545432 42.56511861 42.96702736 43.37118534\n",
      " 43.77759733 44.18626813 44.5972025  45.01040524 45.42588112 45.84363492\n",
      " 46.26367142 46.68599542 47.11061168 47.537525  ]\n"
     ]
    },
    {
     "data": {
      "application/vnd.plotly.v1+json": {
       "config": {
        "plotlyServerURL": "https://plot.ly"
       },
       "data": [
        {
         "a": [
          1.7,
          1.702020202020202,
          1.704040404040404,
          1.706060606060606,
          1.708080808080808,
          1.7101010101010101,
          1.7121212121212122,
          1.7141414141414142,
          1.7161616161616162,
          1.718181818181818,
          1.72020202020202,
          1.722222222222222,
          1.7242424242424241,
          1.7262626262626262,
          1.7282828282828282,
          1.7303030303030302,
          1.7323232323232323,
          1.7343434343434343,
          1.7363636363636363,
          1.7383838383838384,
          1.7404040404040404,
          1.7424242424242424,
          1.7444444444444445,
          1.7464646464646465,
          1.7484848484848485,
          1.7505050505050503,
          1.7525252525252524,
          1.7545454545454544,
          1.7565656565656564,
          1.7585858585858585,
          1.7606060606060605,
          1.7626262626262625,
          1.7646464646464646,
          1.7666666666666666,
          1.7686868686868686,
          1.7707070707070707,
          1.7727272727272727,
          1.7747474747474747,
          1.7767676767676768,
          1.7787878787878788,
          1.7808080808080808,
          1.7828282828282829,
          1.7848484848484847,
          1.7868686868686867,
          1.7888888888888888,
          1.7909090909090908,
          1.7929292929292928,
          1.7949494949494949,
          1.7969696969696969,
          1.798989898989899,
          1.801010101010101,
          1.803030303030303,
          1.805050505050505,
          1.807070707070707,
          1.809090909090909,
          1.8111111111111111,
          1.8131313131313131,
          1.8151515151515152,
          1.8171717171717172,
          1.819191919191919,
          1.821212121212121,
          1.823232323232323,
          1.8252525252525251,
          1.8272727272727272,
          1.8292929292929292,
          1.8313131313131312,
          1.8333333333333333,
          1.8353535353535353,
          1.8373737373737373,
          1.8393939393939394,
          1.8414141414141414,
          1.8434343434343434,
          1.8454545454545455,
          1.8474747474747475,
          1.8494949494949493,
          1.8515151515151516,
          1.8535353535353534,
          1.8555555555555554,
          1.8575757575757574,
          1.8595959595959595,
          1.8616161616161615,
          1.8636363636363635,
          1.8656565656565656,
          1.8676767676767676,
          1.8696969696969696,
          1.8717171717171717,
          1.8737373737373737,
          1.8757575757575757,
          1.8777777777777778,
          1.8797979797979798,
          1.8818181818181818,
          1.8838383838383836,
          1.8858585858585857,
          1.8878787878787877,
          1.8898989898989897,
          1.8919191919191918,
          1.8939393939393938,
          1.8959595959595958,
          1.8979797979797979,
          1.9
         ],
         "aaxis": {
          "type": "linear"
         },
         "b": [
          8,
          8.02020202020202,
          8.04040404040404,
          8.06060606060606,
          8.080808080808081,
          8.1010101010101,
          8.121212121212121,
          8.141414141414142,
          8.16161616161616,
          8.181818181818182,
          8.202020202020202,
          8.222222222222221,
          8.242424242424242,
          8.262626262626263,
          8.282828282828284,
          8.303030303030303,
          8.323232323232324,
          8.343434343434344,
          8.363636363636363,
          8.383838383838384,
          8.404040404040405,
          8.424242424242424,
          8.444444444444445,
          8.464646464646465,
          8.484848484848484,
          8.505050505050505,
          8.525252525252526,
          8.545454545454545,
          8.565656565656566,
          8.585858585858587,
          8.606060606060606,
          8.626262626262626,
          8.646464646464647,
          8.666666666666666,
          8.686868686868687,
          8.707070707070708,
          8.727272727272727,
          8.747474747474747,
          8.767676767676768,
          8.787878787878787,
          8.808080808080808,
          8.828282828282829,
          8.848484848484848,
          8.868686868686869,
          8.88888888888889,
          8.90909090909091,
          8.929292929292929,
          8.94949494949495,
          8.969696969696969,
          8.98989898989899,
          9.01010101010101,
          9.030303030303031,
          9.05050505050505,
          9.070707070707071,
          9.090909090909092,
          9.11111111111111,
          9.131313131313131,
          9.151515151515152,
          9.171717171717171,
          9.191919191919192,
          9.212121212121213,
          9.232323232323232,
          9.252525252525253,
          9.272727272727273,
          9.292929292929292,
          9.313131313131313,
          9.333333333333334,
          9.353535353535353,
          9.373737373737374,
          9.393939393939394,
          9.414141414141415,
          9.434343434343434,
          9.454545454545455,
          9.474747474747474,
          9.494949494949495,
          9.515151515151516,
          9.535353535353536,
          9.555555555555555,
          9.575757575757576,
          9.595959595959595,
          9.616161616161616,
          9.636363636363637,
          9.656565656565657,
          9.676767676767676,
          9.696969696969697,
          9.717171717171718,
          9.737373737373737,
          9.757575757575758,
          9.777777777777779,
          9.797979797979798,
          9.818181818181818,
          9.83838383838384,
          9.858585858585858,
          9.878787878787879,
          9.8989898989899,
          9.919191919191919,
          9.93939393939394,
          9.95959595959596,
          9.97979797979798,
          10
         ],
         "baxis": {
          "type": "linear"
         },
         "type": "carpet",
         "x": [
          15.666112,
          15.890641246579664,
          16.117003729600878,
          16.34520423065365,
          16.57524753132797,
          16.807138413213867,
          17.040881657901327,
          17.276482046980366,
          17.51394436204098,
          17.753273384673182,
          17.994473896466964,
          18.237550679012347,
          18.482508513899326,
          18.729352182717903,
          18.978086467058095,
          19.228716148509893,
          19.481246008663316,
          19.735680829108347,
          19.99202539143501,
          20.250284477233308,
          20.51046286809324,
          20.77256534560481,
          21.036596691358028,
          21.302561686942898,
          21.570465113949414,
          21.84031175396759,
          22.112106388587435,
          22.385853799398948,
          22.661558767992137,
          22.939226075957002,
          23.21886050488355,
          23.500466836361777,
          23.784049851981706,
          24.069614333333334,
          24.357165062006665,
          24.646706819591692,
          24.938244387678445,
          25.231782547856902,
          25.527326081717078,
          25.824879770848987,
          26.124448396842624,
          26.426036741287998,
          26.72964958577511,
          27.035291711893958,
          27.342967901234573,
          27.652682935386927,
          27.964441595941043,
          28.278248664486927,
          28.59410892261458,
          28.912027151914003,
          29.232008133975196,
          29.554056650388183,
          29.878177482742945,
          30.204375412629506,
          30.53265522163787,
          30.86302169135803,
          31.195479603379994,
          31.530033739293767,
          31.866688880689367,
          32.20544980915676,
          32.546321306286,
          32.889308153667066,
          33.234415132889964,
          33.58164702554471,
          33.93100861322128,
          34.28250467750972,
          34.63614,
          34.99191936228215,
          35.34984754594615,
          35.70992933258203,
          36.07216950377977,
          36.43657284112938,
          36.8031441262209,
          37.171888140644285,
          37.54280966598956,
          37.91591348384674,
          38.291204375805805,
          38.66868712345679,
          39.04836650838968,
          39.4302473121945,
          39.81433431646121,
          40.20063230277986,
          40.589146052740446,
          40.979880347932955,
          41.37283996994742,
          41.768029700373795,
          42.16545432080214,
          42.565118612822445,
          42.96702735802471,
          43.37118533799892,
          43.77759733433509,
          44.18626812862324,
          44.597202502453364,
          45.01040523741548,
          45.42588111509958,
          45.843634917095656,
          46.26367142499374,
          46.68599542038381,
          47.11061168485592,
          47.537525
         ],
         "y": [
          88,
          88.57575757575758,
          89.15151515151516,
          89.72727272727273,
          90.3030303030303,
          90.87878787878788,
          91.45454545454545,
          92.03030303030303,
          92.60606060606061,
          93.18181818181819,
          93.75757575757575,
          94.33333333333333,
          94.9090909090909,
          95.48484848484848,
          96.06060606060606,
          96.63636363636364,
          97.21212121212122,
          97.78787878787878,
          98.36363636363636,
          98.93939393939394,
          99.51515151515152,
          100.0909090909091,
          100.66666666666667,
          101.24242424242425,
          101.81818181818181,
          102.39393939393939,
          102.96969696969697,
          103.54545454545455,
          104.12121212121212,
          104.6969696969697,
          105.27272727272728,
          105.84848484848484,
          106.42424242424242,
          107,
          107.57575757575758,
          108.15151515151516,
          108.72727272727273,
          109.30303030303031,
          109.87878787878788,
          110.45454545454545,
          111.03030303030303,
          111.60606060606061,
          112.18181818181819,
          112.75757575757575,
          113.33333333333334,
          113.9090909090909,
          114.48484848484848,
          115.06060606060606,
          115.63636363636364,
          116.21212121212122,
          116.78787878787878,
          117.36363636363637,
          117.93939393939394,
          118.51515151515152,
          119.0909090909091,
          119.66666666666667,
          120.24242424242425,
          120.81818181818181,
          121.3939393939394,
          121.96969696969697,
          122.54545454545455,
          123.12121212121212,
          123.6969696969697,
          124.27272727272728,
          124.84848484848484,
          125.42424242424244,
          126,
          126.57575757575758,
          127.15151515151516,
          127.72727272727273,
          128.3030303030303,
          128.87878787878788,
          129.45454545454547,
          130.03030303030303,
          130.60606060606062,
          131.1818181818182,
          131.75757575757575,
          132.33333333333334,
          132.9090909090909,
          133.4848484848485,
          134.06060606060606,
          134.63636363636363,
          135.21212121212122,
          135.78787878787878,
          136.36363636363637,
          136.93939393939394,
          137.5151515151515,
          138.0909090909091,
          138.66666666666669,
          139.24242424242425,
          139.8181818181818,
          140.3939393939394,
          140.96969696969697,
          141.54545454545456,
          142.12121212121212,
          142.6969696969697,
          143.27272727272728,
          143.84848484848484,
          144.42424242424244,
          145
         ]
        }
       ],
       "layout": {
        "autosize": true,
        "template": {
         "data": {
          "bar": [
           {
            "error_x": {
             "color": "#2a3f5f"
            },
            "error_y": {
             "color": "#2a3f5f"
            },
            "marker": {
             "line": {
              "color": "#E5ECF6",
              "width": 0.5
             },
             "pattern": {
              "fillmode": "overlay",
              "size": 10,
              "solidity": 0.2
             }
            },
            "type": "bar"
           }
          ],
          "barpolar": [
           {
            "marker": {
             "line": {
              "color": "#E5ECF6",
              "width": 0.5
             },
             "pattern": {
              "fillmode": "overlay",
              "size": 10,
              "solidity": 0.2
             }
            },
            "type": "barpolar"
           }
          ],
          "carpet": [
           {
            "aaxis": {
             "endlinecolor": "#2a3f5f",
             "gridcolor": "white",
             "linecolor": "white",
             "minorgridcolor": "white",
             "startlinecolor": "#2a3f5f"
            },
            "baxis": {
             "endlinecolor": "#2a3f5f",
             "gridcolor": "white",
             "linecolor": "white",
             "minorgridcolor": "white",
             "startlinecolor": "#2a3f5f"
            },
            "type": "carpet"
           }
          ],
          "choropleth": [
           {
            "colorbar": {
             "outlinewidth": 0,
             "ticks": ""
            },
            "type": "choropleth"
           }
          ],
          "contour": [
           {
            "colorbar": {
             "outlinewidth": 0,
             "ticks": ""
            },
            "colorscale": [
             [
              0,
              "#0d0887"
             ],
             [
              0.1111111111111111,
              "#46039f"
             ],
             [
              0.2222222222222222,
              "#7201a8"
             ],
             [
              0.3333333333333333,
              "#9c179e"
             ],
             [
              0.4444444444444444,
              "#bd3786"
             ],
             [
              0.5555555555555556,
              "#d8576b"
             ],
             [
              0.6666666666666666,
              "#ed7953"
             ],
             [
              0.7777777777777778,
              "#fb9f3a"
             ],
             [
              0.8888888888888888,
              "#fdca26"
             ],
             [
              1,
              "#f0f921"
             ]
            ],
            "type": "contour"
           }
          ],
          "contourcarpet": [
           {
            "colorbar": {
             "outlinewidth": 0,
             "ticks": ""
            },
            "type": "contourcarpet"
           }
          ],
          "heatmap": [
           {
            "colorbar": {
             "outlinewidth": 0,
             "ticks": ""
            },
            "colorscale": [
             [
              0,
              "#0d0887"
             ],
             [
              0.1111111111111111,
              "#46039f"
             ],
             [
              0.2222222222222222,
              "#7201a8"
             ],
             [
              0.3333333333333333,
              "#9c179e"
             ],
             [
              0.4444444444444444,
              "#bd3786"
             ],
             [
              0.5555555555555556,
              "#d8576b"
             ],
             [
              0.6666666666666666,
              "#ed7953"
             ],
             [
              0.7777777777777778,
              "#fb9f3a"
             ],
             [
              0.8888888888888888,
              "#fdca26"
             ],
             [
              1,
              "#f0f921"
             ]
            ],
            "type": "heatmap"
           }
          ],
          "heatmapgl": [
           {
            "colorbar": {
             "outlinewidth": 0,
             "ticks": ""
            },
            "colorscale": [
             [
              0,
              "#0d0887"
             ],
             [
              0.1111111111111111,
              "#46039f"
             ],
             [
              0.2222222222222222,
              "#7201a8"
             ],
             [
              0.3333333333333333,
              "#9c179e"
             ],
             [
              0.4444444444444444,
              "#bd3786"
             ],
             [
              0.5555555555555556,
              "#d8576b"
             ],
             [
              0.6666666666666666,
              "#ed7953"
             ],
             [
              0.7777777777777778,
              "#fb9f3a"
             ],
             [
              0.8888888888888888,
              "#fdca26"
             ],
             [
              1,
              "#f0f921"
             ]
            ],
            "type": "heatmapgl"
           }
          ],
          "histogram": [
           {
            "marker": {
             "pattern": {
              "fillmode": "overlay",
              "size": 10,
              "solidity": 0.2
             }
            },
            "type": "histogram"
           }
          ],
          "histogram2d": [
           {
            "colorbar": {
             "outlinewidth": 0,
             "ticks": ""
            },
            "colorscale": [
             [
              0,
              "#0d0887"
             ],
             [
              0.1111111111111111,
              "#46039f"
             ],
             [
              0.2222222222222222,
              "#7201a8"
             ],
             [
              0.3333333333333333,
              "#9c179e"
             ],
             [
              0.4444444444444444,
              "#bd3786"
             ],
             [
              0.5555555555555556,
              "#d8576b"
             ],
             [
              0.6666666666666666,
              "#ed7953"
             ],
             [
              0.7777777777777778,
              "#fb9f3a"
             ],
             [
              0.8888888888888888,
              "#fdca26"
             ],
             [
              1,
              "#f0f921"
             ]
            ],
            "type": "histogram2d"
           }
          ],
          "histogram2dcontour": [
           {
            "colorbar": {
             "outlinewidth": 0,
             "ticks": ""
            },
            "colorscale": [
             [
              0,
              "#0d0887"
             ],
             [
              0.1111111111111111,
              "#46039f"
             ],
             [
              0.2222222222222222,
              "#7201a8"
             ],
             [
              0.3333333333333333,
              "#9c179e"
             ],
             [
              0.4444444444444444,
              "#bd3786"
             ],
             [
              0.5555555555555556,
              "#d8576b"
             ],
             [
              0.6666666666666666,
              "#ed7953"
             ],
             [
              0.7777777777777778,
              "#fb9f3a"
             ],
             [
              0.8888888888888888,
              "#fdca26"
             ],
             [
              1,
              "#f0f921"
             ]
            ],
            "type": "histogram2dcontour"
           }
          ],
          "mesh3d": [
           {
            "colorbar": {
             "outlinewidth": 0,
             "ticks": ""
            },
            "type": "mesh3d"
           }
          ],
          "parcoords": [
           {
            "line": {
             "colorbar": {
              "outlinewidth": 0,
              "ticks": ""
             }
            },
            "type": "parcoords"
           }
          ],
          "pie": [
           {
            "automargin": true,
            "type": "pie"
           }
          ],
          "scatter": [
           {
            "fillpattern": {
             "fillmode": "overlay",
             "size": 10,
             "solidity": 0.2
            },
            "type": "scatter"
           }
          ],
          "scatter3d": [
           {
            "line": {
             "colorbar": {
              "outlinewidth": 0,
              "ticks": ""
             }
            },
            "marker": {
             "colorbar": {
              "outlinewidth": 0,
              "ticks": ""
             }
            },
            "type": "scatter3d"
           }
          ],
          "scattercarpet": [
           {
            "marker": {
             "colorbar": {
              "outlinewidth": 0,
              "ticks": ""
             }
            },
            "type": "scattercarpet"
           }
          ],
          "scattergeo": [
           {
            "marker": {
             "colorbar": {
              "outlinewidth": 0,
              "ticks": ""
             }
            },
            "type": "scattergeo"
           }
          ],
          "scattergl": [
           {
            "marker": {
             "colorbar": {
              "outlinewidth": 0,
              "ticks": ""
             }
            },
            "type": "scattergl"
           }
          ],
          "scattermapbox": [
           {
            "marker": {
             "colorbar": {
              "outlinewidth": 0,
              "ticks": ""
             }
            },
            "type": "scattermapbox"
           }
          ],
          "scatterpolar": [
           {
            "marker": {
             "colorbar": {
              "outlinewidth": 0,
              "ticks": ""
             }
            },
            "type": "scatterpolar"
           }
          ],
          "scatterpolargl": [
           {
            "marker": {
             "colorbar": {
              "outlinewidth": 0,
              "ticks": ""
             }
            },
            "type": "scatterpolargl"
           }
          ],
          "scatterternary": [
           {
            "marker": {
             "colorbar": {
              "outlinewidth": 0,
              "ticks": ""
             }
            },
            "type": "scatterternary"
           }
          ],
          "surface": [
           {
            "colorbar": {
             "outlinewidth": 0,
             "ticks": ""
            },
            "colorscale": [
             [
              0,
              "#0d0887"
             ],
             [
              0.1111111111111111,
              "#46039f"
             ],
             [
              0.2222222222222222,
              "#7201a8"
             ],
             [
              0.3333333333333333,
              "#9c179e"
             ],
             [
              0.4444444444444444,
              "#bd3786"
             ],
             [
              0.5555555555555556,
              "#d8576b"
             ],
             [
              0.6666666666666666,
              "#ed7953"
             ],
             [
              0.7777777777777778,
              "#fb9f3a"
             ],
             [
              0.8888888888888888,
              "#fdca26"
             ],
             [
              1,
              "#f0f921"
             ]
            ],
            "type": "surface"
           }
          ],
          "table": [
           {
            "cells": {
             "fill": {
              "color": "#EBF0F8"
             },
             "line": {
              "color": "white"
             }
            },
            "header": {
             "fill": {
              "color": "#C8D4E3"
             },
             "line": {
              "color": "white"
             }
            },
            "type": "table"
           }
          ]
         },
         "layout": {
          "annotationdefaults": {
           "arrowcolor": "#2a3f5f",
           "arrowhead": 0,
           "arrowwidth": 1
          },
          "autotypenumbers": "strict",
          "coloraxis": {
           "colorbar": {
            "outlinewidth": 0,
            "ticks": ""
           }
          },
          "colorscale": {
           "diverging": [
            [
             0,
             "#8e0152"
            ],
            [
             0.1,
             "#c51b7d"
            ],
            [
             0.2,
             "#de77ae"
            ],
            [
             0.3,
             "#f1b6da"
            ],
            [
             0.4,
             "#fde0ef"
            ],
            [
             0.5,
             "#f7f7f7"
            ],
            [
             0.6,
             "#e6f5d0"
            ],
            [
             0.7,
             "#b8e186"
            ],
            [
             0.8,
             "#7fbc41"
            ],
            [
             0.9,
             "#4d9221"
            ],
            [
             1,
             "#276419"
            ]
           ],
           "sequential": [
            [
             0,
             "#0d0887"
            ],
            [
             0.1111111111111111,
             "#46039f"
            ],
            [
             0.2222222222222222,
             "#7201a8"
            ],
            [
             0.3333333333333333,
             "#9c179e"
            ],
            [
             0.4444444444444444,
             "#bd3786"
            ],
            [
             0.5555555555555556,
             "#d8576b"
            ],
            [
             0.6666666666666666,
             "#ed7953"
            ],
            [
             0.7777777777777778,
             "#fb9f3a"
            ],
            [
             0.8888888888888888,
             "#fdca26"
            ],
            [
             1,
             "#f0f921"
            ]
           ],
           "sequentialminus": [
            [
             0,
             "#0d0887"
            ],
            [
             0.1111111111111111,
             "#46039f"
            ],
            [
             0.2222222222222222,
             "#7201a8"
            ],
            [
             0.3333333333333333,
             "#9c179e"
            ],
            [
             0.4444444444444444,
             "#bd3786"
            ],
            [
             0.5555555555555556,
             "#d8576b"
            ],
            [
             0.6666666666666666,
             "#ed7953"
            ],
            [
             0.7777777777777778,
             "#fb9f3a"
            ],
            [
             0.8888888888888888,
             "#fdca26"
            ],
            [
             1,
             "#f0f921"
            ]
           ]
          },
          "colorway": [
           "#636efa",
           "#EF553B",
           "#00cc96",
           "#ab63fa",
           "#FFA15A",
           "#19d3f3",
           "#FF6692",
           "#B6E880",
           "#FF97FF",
           "#FECB52"
          ],
          "font": {
           "color": "#2a3f5f"
          },
          "geo": {
           "bgcolor": "white",
           "lakecolor": "white",
           "landcolor": "#E5ECF6",
           "showlakes": true,
           "showland": true,
           "subunitcolor": "white"
          },
          "hoverlabel": {
           "align": "left"
          },
          "hovermode": "closest",
          "mapbox": {
           "style": "light"
          },
          "paper_bgcolor": "white",
          "plot_bgcolor": "#E5ECF6",
          "polar": {
           "angularaxis": {
            "gridcolor": "white",
            "linecolor": "white",
            "ticks": ""
           },
           "bgcolor": "#E5ECF6",
           "radialaxis": {
            "gridcolor": "white",
            "linecolor": "white",
            "ticks": ""
           }
          },
          "scene": {
           "xaxis": {
            "backgroundcolor": "#E5ECF6",
            "gridcolor": "white",
            "gridwidth": 2,
            "linecolor": "white",
            "showbackground": true,
            "ticks": "",
            "zerolinecolor": "white"
           },
           "yaxis": {
            "backgroundcolor": "#E5ECF6",
            "gridcolor": "white",
            "gridwidth": 2,
            "linecolor": "white",
            "showbackground": true,
            "ticks": "",
            "zerolinecolor": "white"
           },
           "zaxis": {
            "backgroundcolor": "#E5ECF6",
            "gridcolor": "white",
            "gridwidth": 2,
            "linecolor": "white",
            "showbackground": true,
            "ticks": "",
            "zerolinecolor": "white"
           }
          },
          "shapedefaults": {
           "line": {
            "color": "#2a3f5f"
           }
          },
          "ternary": {
           "aaxis": {
            "gridcolor": "white",
            "linecolor": "white",
            "ticks": ""
           },
           "baxis": {
            "gridcolor": "white",
            "linecolor": "white",
            "ticks": ""
           },
           "bgcolor": "#E5ECF6",
           "caxis": {
            "gridcolor": "white",
            "linecolor": "white",
            "ticks": ""
           }
          },
          "title": {
           "x": 0.05
          },
          "xaxis": {
           "automargin": true,
           "gridcolor": "white",
           "linecolor": "white",
           "ticks": "",
           "title": {
            "standoff": 15
           },
           "zerolinecolor": "white",
           "zerolinewidth": 2
          },
          "yaxis": {
           "automargin": true,
           "gridcolor": "white",
           "linecolor": "white",
           "ticks": "",
           "title": {
            "standoff": 15
           },
           "zerolinecolor": "white",
           "zerolinewidth": 2
          }
         }
        },
        "xaxis": {
         "autorange": false,
         "range": [
          8.4729130373161,
          54.781230212535434
         ],
         "showspikes": false,
         "type": "linear"
        },
        "yaxis": {
         "autorange": false,
         "range": [
          75.14721792363572,
          158.0101746750622
         ],
         "showspikes": false,
         "type": "linear"
        }
       }
      },
      "image/png": "[encoded data removed]",
      "text/html": [
       "<div>                            <div id=\"e3e7a293-7aee-4a83-93ef-a83ff9ebc28a\" class=\"plotly-graph-div\" style=\"height:525px; width:100%;\"></div>            <script type=\"text/javascript\">                require([\"plotly\"], function(Plotly) {                    window.PLOTLYENV=window.PLOTLYENV || {};                                    if (document.getElementById(\"e3e7a293-7aee-4a83-93ef-a83ff9ebc28a\")) {                    Plotly.newPlot(                        \"e3e7a293-7aee-4a83-93ef-a83ff9ebc28a\",                        [{\"a\":[1.7,1.702020202020202,1.704040404040404,1.706060606060606,1.708080808080808,1.7101010101010101,1.7121212121212122,1.7141414141414142,1.7161616161616162,1.718181818181818,1.72020202020202,1.722222222222222,1.7242424242424241,1.7262626262626262,1.7282828282828282,1.7303030303030302,1.7323232323232323,1.7343434343434343,1.7363636363636363,1.7383838383838384,1.7404040404040404,1.7424242424242424,1.7444444444444445,1.7464646464646465,1.7484848484848485,1.7505050505050503,1.7525252525252524,1.7545454545454544,1.7565656565656564,1.7585858585858585,1.7606060606060605,1.7626262626262625,1.7646464646464646,1.7666666666666666,1.7686868686868686,1.7707070707070707,1.7727272727272727,1.7747474747474747,1.7767676767676768,1.7787878787878788,1.7808080808080808,1.7828282828282829,1.7848484848484847,1.7868686868686867,1.7888888888888888,1.7909090909090908,1.7929292929292928,1.7949494949494949,1.7969696969696969,1.798989898989899,1.801010101010101,1.803030303030303,1.805050505050505,1.807070707070707,1.809090909090909,1.8111111111111111,1.8131313131313131,1.8151515151515152,1.8171717171717172,1.819191919191919,1.821212121212121,1.823232323232323,1.8252525252525251,1.8272727272727272,1.8292929292929292,1.8313131313131312,1.8333333333333333,1.8353535353535353,1.8373737373737373,1.8393939393939394,1.8414141414141414,1.8434343434343434,1.8454545454545455,1.8474747474747475,1.8494949494949493,1.8515151515151516,1.8535353535353534,1.8555555555555554,1.8575757575757574,1.8595959595959595,1.8616161616161615,1.8636363636363635,1.8656565656565656,1.8676767676767676,1.8696969696969696,1.8717171717171717,1.8737373737373737,1.8757575757575757,1.8777777777777778,1.8797979797979798,1.8818181818181818,1.8838383838383836,1.8858585858585857,1.8878787878787877,1.8898989898989897,1.8919191919191918,1.8939393939393938,1.8959595959595958,1.8979797979797979,1.9],\"b\":[8.0,8.02020202020202,8.04040404040404,8.06060606060606,8.080808080808081,8.1010101010101,8.121212121212121,8.141414141414142,8.16161616161616,8.181818181818182,8.202020202020202,8.222222222222221,8.242424242424242,8.262626262626263,8.282828282828284,8.303030303030303,8.323232323232324,8.343434343434344,8.363636363636363,8.383838383838384,8.404040404040405,8.424242424242424,8.444444444444445,8.464646464646465,8.484848484848484,8.505050505050505,8.525252525252526,8.545454545454545,8.565656565656566,8.585858585858587,8.606060606060606,8.626262626262626,8.646464646464647,8.666666666666666,8.686868686868687,8.707070707070708,8.727272727272727,8.747474747474747,8.767676767676768,8.787878787878787,8.808080808080808,8.828282828282829,8.848484848484848,8.868686868686869,8.88888888888889,8.90909090909091,8.929292929292929,8.94949494949495,8.969696969696969,8.98989898989899,9.01010101010101,9.030303030303031,9.05050505050505,9.070707070707071,9.090909090909092,9.11111111111111,9.131313131313131,9.151515151515152,9.171717171717171,9.191919191919192,9.212121212121213,9.232323232323232,9.252525252525253,9.272727272727273,9.292929292929292,9.313131313131313,9.333333333333334,9.353535353535353,9.373737373737374,9.393939393939394,9.414141414141415,9.434343434343434,9.454545454545455,9.474747474747474,9.494949494949495,9.515151515151516,9.535353535353536,9.555555555555555,9.575757575757576,9.595959595959595,9.616161616161616,9.636363636363637,9.656565656565657,9.676767676767676,9.696969696969697,9.717171717171718,9.737373737373737,9.757575757575758,9.777777777777779,9.797979797979798,9.818181818181818,9.83838383838384,9.858585858585858,9.878787878787879,9.8989898989899,9.919191919191919,9.93939393939394,9.95959595959596,9.97979797979798,10.0],\"x\":[15.666112,15.890641246579664,16.117003729600878,16.34520423065365,16.57524753132797,16.807138413213867,17.040881657901327,17.276482046980366,17.51394436204098,17.753273384673182,17.994473896466964,18.237550679012347,18.482508513899326,18.729352182717903,18.978086467058095,19.228716148509893,19.481246008663316,19.735680829108347,19.99202539143501,20.250284477233308,20.51046286809324,20.77256534560481,21.036596691358028,21.302561686942898,21.570465113949414,21.84031175396759,22.112106388587435,22.385853799398948,22.661558767992137,22.939226075957002,23.21886050488355,23.500466836361777,23.784049851981706,24.069614333333334,24.357165062006665,24.646706819591692,24.938244387678445,25.231782547856902,25.527326081717078,25.824879770848987,26.124448396842624,26.426036741287998,26.72964958577511,27.035291711893958,27.342967901234573,27.652682935386927,27.964441595941043,28.278248664486927,28.59410892261458,28.912027151914003,29.232008133975196,29.554056650388183,29.878177482742945,30.204375412629506,30.53265522163787,30.86302169135803,31.195479603379994,31.530033739293767,31.866688880689367,32.20544980915676,32.546321306286,32.889308153667066,33.234415132889964,33.58164702554471,33.93100861322128,34.28250467750972,34.63614,34.99191936228215,35.34984754594615,35.70992933258203,36.07216950377977,36.43657284112938,36.8031441262209,37.171888140644285,37.54280966598956,37.91591348384674,38.291204375805805,38.66868712345679,39.04836650838968,39.4302473121945,39.81433431646121,40.20063230277986,40.589146052740446,40.979880347932955,41.37283996994742,41.768029700373795,42.16545432080214,42.565118612822445,42.96702735802471,43.37118533799892,43.77759733433509,44.18626812862324,44.597202502453364,45.01040523741548,45.42588111509958,45.843634917095656,46.26367142499374,46.68599542038381,47.11061168485592,47.537525],\"y\":[88.0,88.57575757575758,89.15151515151516,89.72727272727273,90.3030303030303,90.87878787878788,91.45454545454545,92.03030303030303,92.60606060606061,93.18181818181819,93.75757575757575,94.33333333333333,94.9090909090909,95.48484848484848,96.06060606060606,96.63636363636364,97.21212121212122,97.78787878787878,98.36363636363636,98.93939393939394,99.51515151515152,100.0909090909091,100.66666666666667,101.24242424242425,101.81818181818181,102.39393939393939,102.96969696969697,103.54545454545455,104.12121212121212,104.6969696969697,105.27272727272728,105.84848484848484,106.42424242424242,107.0,107.57575757575758,108.15151515151516,108.72727272727273,109.30303030303031,109.87878787878788,110.45454545454545,111.03030303030303,111.60606060606061,112.18181818181819,112.75757575757575,113.33333333333334,113.9090909090909,114.48484848484848,115.06060606060606,115.63636363636364,116.21212121212122,116.78787878787878,117.36363636363637,117.93939393939394,118.51515151515152,119.0909090909091,119.66666666666667,120.24242424242425,120.81818181818181,121.3939393939394,121.96969696969697,122.54545454545455,123.12121212121212,123.6969696969697,124.27272727272728,124.84848484848484,125.42424242424244,126.0,126.57575757575758,127.15151515151516,127.72727272727273,128.3030303030303,128.87878787878788,129.45454545454547,130.03030303030303,130.60606060606062,131.1818181818182,131.75757575757575,132.33333333333334,132.9090909090909,133.4848484848485,134.06060606060606,134.63636363636363,135.21212121212122,135.78787878787878,136.36363636363637,136.93939393939394,137.5151515151515,138.0909090909091,138.66666666666669,139.24242424242425,139.8181818181818,140.3939393939394,140.96969696969697,141.54545454545456,142.12121212121212,142.6969696969697,143.27272727272728,143.84848484848484,144.42424242424244,145.0],\"type\":\"carpet\"}],                        {\"template\":{\"data\":{\"histogram2dcontour\":[{\"type\":\"histogram2dcontour\",\"colorbar\":{\"outlinewidth\":0,\"ticks\":\"\"},\"colorscale\":[[0.0,\"#0d0887\"],[0.1111111111111111,\"#46039f\"],[0.2222222222222222,\"#7201a8\"],[0.3333333333333333,\"#9c179e\"],[0.4444444444444444,\"#bd3786\"],[0.5555555555555556,\"#d8576b\"],[0.6666666666666666,\"#ed7953\"],[0.7777777777777778,\"#fb9f3a\"],[0.8888888888888888,\"#fdca26\"],[1.0,\"#f0f921\"]]}],\"choropleth\":[{\"type\":\"choropleth\",\"colorbar\":{\"outlinewidth\":0,\"ticks\":\"\"}}],\"histogram2d\":[{\"type\":\"histogram2d\",\"colorbar\":{\"outlinewidth\":0,\"ticks\":\"\"},\"colorscale\":[[0.0,\"#0d0887\"],[0.1111111111111111,\"#46039f\"],[0.2222222222222222,\"#7201a8\"],[0.3333333333333333,\"#9c179e\"],[0.4444444444444444,\"#bd3786\"],[0.5555555555555556,\"#d8576b\"],[0.6666666666666666,\"#ed7953\"],[0.7777777777777778,\"#fb9f3a\"],[0.8888888888888888,\"#fdca26\"],[1.0,\"#f0f921\"]]}],\"heatmap\":[{\"type\":\"heatmap\",\"colorbar\":{\"outlinewidth\":0,\"ticks\":\"\"},\"colorscale\":[[0.0,\"#0d0887\"],[0.1111111111111111,\"#46039f\"],[0.2222222222222222,\"#7201a8\"],[0.3333333333333333,\"#9c179e\"],[0.4444444444444444,\"#bd3786\"],[0.5555555555555556,\"#d8576b\"],[0.6666666666666666,\"#ed7953\"],[0.7777777777777778,\"#fb9f3a\"],[0.8888888888888888,\"#fdca26\"],[1.0,\"#f0f921\"]]}],\"heatmapgl\":[{\"type\":\"heatmapgl\",\"colorbar\":{\"outlinewidth\":0,\"ticks\":\"\"},\"colorscale\":[[0.0,\"#0d0887\"],[0.1111111111111111,\"#46039f\"],[0.2222222222222222,\"#7201a8\"],[0.3333333333333333,\"#9c179e\"],[0.4444444444444444,\"#bd3786\"],[0.5555555555555556,\"#d8576b\"],[0.6666666666666666,\"#ed7953\"],[0.7777777777777778,\"#fb9f3a\"],[0.8888888888888888,\"#fdca26\"],[1.0,\"#f0f921\"]]}],\"contourcarpet\":[{\"type\":\"contourcarpet\",\"colorbar\":{\"outlinewidth\":0,\"ticks\":\"\"}}],\"contour\":[{\"type\":\"contour\",\"colorbar\":{\"outlinewidth\":0,\"ticks\":\"\"},\"colorscale\":[[0.0,\"#0d0887\"],[0.1111111111111111,\"#46039f\"],[0.2222222222222222,\"#7201a8\"],[0.3333333333333333,\"#9c179e\"],[0.4444444444444444,\"#bd3786\"],[0.5555555555555556,\"#d8576b\"],[0.6666666666666666,\"#ed7953\"],[0.7777777777777778,\"#fb9f3a\"],[0.8888888888888888,\"#fdca26\"],[1.0,\"#f0f921\"]]}],\"surface\":[{\"type\":\"surface\",\"colorbar\":{\"outlinewidth\":0,\"ticks\":\"\"},\"colorscale\":[[0.0,\"#0d0887\"],[0.1111111111111111,\"#46039f\"],[0.2222222222222222,\"#7201a8\"],[0.3333333333333333,\"#9c179e\"],[0.4444444444444444,\"#bd3786\"],[0.5555555555555556,\"#d8576b\"],[0.6666666666666666,\"#ed7953\"],[0.7777777777777778,\"#fb9f3a\"],[0.8888888888888888,\"#fdca26\"],[1.0,\"#f0f921\"]]}],\"mesh3d\":[{\"type\":\"mesh3d\",\"colorbar\":{\"outlinewidth\":0,\"ticks\":\"\"}}],\"scatter\":[{\"fillpattern\":{\"fillmode\":\"overlay\",\"size\":10,\"solidity\":0.2},\"type\":\"scatter\"}],\"parcoords\":[{\"type\":\"parcoords\",\"line\":{\"colorbar\":{\"outlinewidth\":0,\"ticks\":\"\"}}}],\"scatterpolargl\":[{\"type\":\"scatterpolargl\",\"marker\":{\"colorbar\":{\"outlinewidth\":0,\"ticks\":\"\"}}}],\"bar\":[{\"error_x\":{\"color\":\"#2a3f5f\"},\"error_y\":{\"color\":\"#2a3f5f\"},\"marker\":{\"line\":{\"color\":\"#E5ECF6\",\"width\":0.5},\"pattern\":{\"fillmode\":\"overlay\",\"size\":10,\"solidity\":0.2}},\"type\":\"bar\"}],\"scattergeo\":[{\"type\":\"scattergeo\",\"marker\":{\"colorbar\":{\"outlinewidth\":0,\"ticks\":\"\"}}}],\"scatterpolar\":[{\"type\":\"scatterpolar\",\"marker\":{\"colorbar\":{\"outlinewidth\":0,\"ticks\":\"\"}}}],\"histogram\":[{\"marker\":{\"pattern\":{\"fillmode\":\"overlay\",\"size\":10,\"solidity\":0.2}},\"type\":\"histogram\"}],\"scattergl\":[{\"type\":\"scattergl\",\"marker\":{\"colorbar\":{\"outlinewidth\":0,\"ticks\":\"\"}}}],\"scatter3d\":[{\"type\":\"scatter3d\",\"line\":{\"colorbar\":{\"outlinewidth\":0,\"ticks\":\"\"}},\"marker\":{\"colorbar\":{\"outlinewidth\":0,\"ticks\":\"\"}}}],\"scattermapbox\":[{\"type\":\"scattermapbox\",\"marker\":{\"colorbar\":{\"outlinewidth\":0,\"ticks\":\"\"}}}],\"scatterternary\":[{\"type\":\"scatterternary\",\"marker\":{\"colorbar\":{\"outlinewidth\":0,\"ticks\":\"\"}}}],\"scattercarpet\":[{\"type\":\"scattercarpet\",\"marker\":{\"colorbar\":{\"outlinewidth\":0,\"ticks\":\"\"}}}],\"carpet\":[{\"aaxis\":{\"endlinecolor\":\"#2a3f5f\",\"gridcolor\":\"white\",\"linecolor\":\"white\",\"minorgridcolor\":\"white\",\"startlinecolor\":\"#2a3f5f\"},\"baxis\":{\"endlinecolor\":\"#2a3f5f\",\"gridcolor\":\"white\",\"linecolor\":\"white\",\"minorgridcolor\":\"white\",\"startlinecolor\":\"#2a3f5f\"},\"type\":\"carpet\"}],\"table\":[{\"cells\":{\"fill\":{\"color\":\"#EBF0F8\"},\"line\":{\"color\":\"white\"}},\"header\":{\"fill\":{\"color\":\"#C8D4E3\"},\"line\":{\"color\":\"white\"}},\"type\":\"table\"}],\"barpolar\":[{\"marker\":{\"line\":{\"color\":\"#E5ECF6\",\"width\":0.5},\"pattern\":{\"fillmode\":\"overlay\",\"size\":10,\"solidity\":0.2}},\"type\":\"barpolar\"}],\"pie\":[{\"automargin\":true,\"type\":\"pie\"}]},\"layout\":{\"autotypenumbers\":\"strict\",\"colorway\":[\"#636efa\",\"#EF553B\",\"#00cc96\",\"#ab63fa\",\"#FFA15A\",\"#19d3f3\",\"#FF6692\",\"#B6E880\",\"#FF97FF\",\"#FECB52\"],\"font\":{\"color\":\"#2a3f5f\"},\"hovermode\":\"closest\",\"hoverlabel\":{\"align\":\"left\"},\"paper_bgcolor\":\"white\",\"plot_bgcolor\":\"#E5ECF6\",\"polar\":{\"bgcolor\":\"#E5ECF6\",\"angularaxis\":{\"gridcolor\":\"white\",\"linecolor\":\"white\",\"ticks\":\"\"},\"radialaxis\":{\"gridcolor\":\"white\",\"linecolor\":\"white\",\"ticks\":\"\"}},\"ternary\":{\"bgcolor\":\"#E5ECF6\",\"aaxis\":{\"gridcolor\":\"white\",\"linecolor\":\"white\",\"ticks\":\"\"},\"baxis\":{\"gridcolor\":\"white\",\"linecolor\":\"white\",\"ticks\":\"\"},\"caxis\":{\"gridcolor\":\"white\",\"linecolor\":\"white\",\"ticks\":\"\"}},\"coloraxis\":{\"colorbar\":{\"outlinewidth\":0,\"ticks\":\"\"}},\"colorscale\":{\"sequential\":[[0.0,\"#0d0887\"],[0.1111111111111111,\"#46039f\"],[0.2222222222222222,\"#7201a8\"],[0.3333333333333333,\"#9c179e\"],[0.4444444444444444,\"#bd3786\"],[0.5555555555555556,\"#d8576b\"],[0.6666666666666666,\"#ed7953\"],[0.7777777777777778,\"#fb9f3a\"],[0.8888888888888888,\"#fdca26\"],[1.0,\"#f0f921\"]],\"sequentialminus\":[[0.0,\"#0d0887\"],[0.1111111111111111,\"#46039f\"],[0.2222222222222222,\"#7201a8\"],[0.3333333333333333,\"#9c179e\"],[0.4444444444444444,\"#bd3786\"],[0.5555555555555556,\"#d8576b\"],[0.6666666666666666,\"#ed7953\"],[0.7777777777777778,\"#fb9f3a\"],[0.8888888888888888,\"#fdca26\"],[1.0,\"#f0f921\"]],\"diverging\":[[0,\"#8e0152\"],[0.1,\"#c51b7d\"],[0.2,\"#de77ae\"],[0.3,\"#f1b6da\"],[0.4,\"#fde0ef\"],[0.5,\"#f7f7f7\"],[0.6,\"#e6f5d0\"],[0.7,\"#b8e186\"],[0.8,\"#7fbc41\"],[0.9,\"#4d9221\"],[1,\"#276419\"]]},\"xaxis\":{\"gridcolor\":\"white\",\"linecolor\":\"white\",\"ticks\":\"\",\"title\":{\"standoff\":15},\"zerolinecolor\":\"white\",\"automargin\":true,\"zerolinewidth\":2},\"yaxis\":{\"gridcolor\":\"white\",\"linecolor\":\"white\",\"ticks\":\"\",\"title\":{\"standoff\":15},\"zerolinecolor\":\"white\",\"automargin\":true,\"zerolinewidth\":2},\"scene\":{\"xaxis\":{\"backgroundcolor\":\"#E5ECF6\",\"gridcolor\":\"white\",\"linecolor\":\"white\",\"showbackground\":true,\"ticks\":\"\",\"zerolinecolor\":\"white\",\"gridwidth\":2},\"yaxis\":{\"backgroundcolor\":\"#E5ECF6\",\"gridcolor\":\"white\",\"linecolor\":\"white\",\"showbackground\":true,\"ticks\":\"\",\"zerolinecolor\":\"white\",\"gridwidth\":2},\"zaxis\":{\"backgroundcolor\":\"#E5ECF6\",\"gridcolor\":\"white\",\"linecolor\":\"white\",\"showbackground\":true,\"ticks\":\"\",\"zerolinecolor\":\"white\",\"gridwidth\":2}},\"shapedefaults\":{\"line\":{\"color\":\"#2a3f5f\"}},\"annotationdefaults\":{\"arrowcolor\":\"#2a3f5f\",\"arrowhead\":0,\"arrowwidth\":1},\"geo\":{\"bgcolor\":\"white\",\"landcolor\":\"#E5ECF6\",\"subunitcolor\":\"white\",\"showland\":true,\"showlakes\":true,\"lakecolor\":\"white\"},\"title\":{\"x\":0.05},\"mapbox\":{\"style\":\"light\"}}}},                        {\"responsive\": true}                    ).then(function(){\n",
       "                            \n",
       "var gd = document.getElementById('e3e7a293-7aee-4a83-93ef-a83ff9ebc28a');\n",
       "var x = new MutationObserver(function (mutations, observer) {{\n",
       "        var display = window.getComputedStyle(gd).display;\n",
       "        if (!display || display === 'none') {{\n",
       "            console.log([gd, 'removed!']);\n",
       "            Plotly.purge(gd);\n",
       "            observer.disconnect();\n",
       "        }}\n",
       "}});\n",
       "\n",
       "// Listen for the removal of the full notebook cells\n",
       "var notebookContainer = gd.closest('#notebook-container');\n",
       "if (notebookContainer) {{\n",
       "    x.observe(notebookContainer, {childList: true});\n",
       "}}\n",
       "\n",
       "// Listen for the clearing of the current output cell\n",
       "var outputEl = gd.closest('.output');\n",
       "if (outputEl) {{\n",
       "    x.observe(outputEl, {childList: true});\n",
       "}}\n",
       "\n",
       "                        })                };                });            </script>        </div>"
      ]
     },
     "metadata": {},
     "output_type": "display_data"
    }
   ],
   "source": [
    "# V_stall (y-axis)\n",
    "# V_stall = 88 #ft/s- switch to array\n",
    "import numpy as np\n",
    "V_stall = np.linspace(88, 145, num=100)\n",
    "print(V_stall)\n",
    "\n",
    "# Wing Loading (x-axis)\n",
    "# Fixed Var\n",
    "W = 7704 #lbs\n",
    "S_wet_wing = 792 #ft^2\n",
    "\n",
    "Wing_loading = W/S_wet_wing #lb/ft^2\n",
    "#print(Wing_loading)\n",
    "\n",
    "#alternate vers of W/S using equation:\n",
    "rho = 0.00238 #slug\n",
    "# C_L_max = 2 #unitless- switch to array\n",
    "C_L_max = np.linspace(1.7, 1.9, num=100) #Source: 130B-A2\n",
    "Wing_loading_2 = 0.5*rho*(V_stall**2)*C_L_max\n",
    "print(Wing_loading_2)\n",
    "\n",
    "# AR\n",
    "AR = np.linspace(0, 10, num=100)\n",
    "\n",
    "import plotly.graph_objects as go\n",
    "fig = go.Figure(go.Carpet(\n",
    "    a = C_L_max,\n",
    "    b = np.linspace(8, 10, num=100),\n",
    "    x = Wing_loading_2,\n",
    "    y = V_stall,\n",
    "))\n",
    "#fig.update_xaxes(autorangeoptions_clipmax=47.6,autorangeoptions_clipmin=15.65)\n",
    "#fig.update_yaxes(autorangeoptions_clipmax=145,autorangeoptions_clipmin=88)\n",
    "fig.show()\n"
   ]
  },
  {
   "cell_type": "code",
   "execution_count": null,
   "id": "52341e8a-2800-4efa-b2d8-849c8c14ee6e",
   "metadata": {},
   "outputs": [],
   "source": []
  }
 ],
 "metadata": {
  "kernelspec": {
   "display_name": "Python [conda env:base] *",
   "language": "python",
   "name": "conda-base-py"
  },
  "language_info": {
   "codemirror_mode": {
    "name": "ipython",
    "version": 3
   },
   "file_extension": ".py",
   "mimetype": "text/x-python",
   "name": "python",
   "nbconvert_exporter": "python",
   "pygments_lexer": "ipython3",
   "version": "3.12.7"
  }
 },
 "nbformat": 4,
 "nbformat_minor": 5
}
