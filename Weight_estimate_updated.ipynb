{
 "cells": [
  {
   "cell_type": "code",
   "execution_count": null,
   "metadata": {},
   "outputs": [
    {
     "name": "stdout",
     "output_type": "stream",
     "text": [
      "Weight fraction during cruising: 0.925\n",
      "Weight fraction during loitering: 0.973\n",
      "Weight fraction W9/W0: 0.883\n",
      "Total fuel fraction Wf/W0: 0.124\n",
      "Empty weight: 4008.471 lbs\n",
      "Regression's empty weight fraction (We/W0): 0.567\n",
      "Takeoff Gross Weight (TOGW): 7067 lbs\n"
     ]
    }
   ],
   "source": [
    "# EAE 130A - Aircraft Performance and Design\n",
    "# Assignment 2\n",
    "# Group 9\n",
    "# 31 January 2025\n",
    "\n",
    "import math\n",
    "\n",
    "# Stating the weight of the payload and crew member\n",
    "weight_crew = 180  # lbs - from lecture slides\n",
    "weight_payload = 2000  # lbs - from RFP\n",
    "\n",
    "lift2drag_ratio_max = float(input(\"Enter the MAX L/D ratio: \"))\n",
    "\n",
    "lift2drag_ratio = 0.94 * lift2drag_ratio_max\n",
    "\n",
    "Range = 600  # nmi - from RFP \"range is the distance flown - use for cruise\" lec03\n",
    "Endurance = 30 / 60  # 30 min -> 0.5 hr from RFP \"endurance is the time flown - use for loiter\" lec03\n",
    "c = 0.595 # float(input(\"Enter the specific fuel consumption value 'c' [1/s]: \"))  # Updated units for clarity\n",
    "velocity = 250 * 1.69  # knots to ft/s - maximum operational speed - from RFP\n",
    "\n",
    "# Cruising\n",
    "W5_W4 = math.exp((-Range * c) / (velocity * lift2drag_ratio))  # weight fraction during cruising\n",
    "print(\"Weight fraction during cruising: \" + str(round(W5_W4, 3)))\n",
    "\n",
    "# Loitering\n",
    "W7_W6 = math.exp((-Endurance * c) / (lift2drag_ratio))  # weight fraction during loitering\n",
    "print(\"Weight fraction during loitering: \" + str(round(W7_W6, 3)))\n",
    "\n",
    "# For final weight fraction calculations, we are using the typical weight fractions\n",
    "# Warmup (0.996), Taxi (0.995), Takeoff (0.996), Climb (0.998), Descent (0.999), and Landing (0.998)\n",
    "\n",
    "W1_W0 = 0.996  # weight fraction for warm-up\n",
    "W2_W1 = 0.995  # weight fraction for taxi\n",
    "W3_W2 = 0.996  # weight fraction for takeoff\n",
    "W4_W3 = 0.998  # weight fraction for climb\n",
    "               # calculated weight fraction for cruising\n",
    "W6_W5 = 0.999  # weight fraction for descent\n",
    "               # calculated weight fraction for loitering\n",
    "W8_W7 = 0.999  # weight fraction for descent (2)\n",
    "W9_W8 = 0.998  # weight fraction for landing\n",
    "\n",
    "W9_W0 = W9_W8 * W8_W7 * W7_W6 * W6_W5 * W5_W4 * W4_W3 * W3_W2 * W2_W1 * W1_W0\n",
    "\n",
    "print(\"Weight fraction W9/W0: \" + str(round(W9_W0, 3)))\n",
    "\n",
    "# Now calculating the fuel fraction and accounting for the trapped fuel through multiplying by a factor of 1.06\n",
    "Wf_W0 = (1 - W9_W0) * 1.06\n",
    "\n",
    "print(\"Total fuel fraction Wf/W0: \" + str(round(Wf_W0, 3)))\n",
    "\n",
    "# Now we shall compute the takeoff gross weight through an iterative method\n",
    "W0 = 19000  # lbs - initial guess for the empty weight\n",
    "list_W0 = []  # creating an empty list to store W0 guesses to plot convergence\n",
    "tol = 1e-6  # setting the convergence tolerance\n",
    "i = 1  # setting a value greater than the tolerance for iteration purposes\n",
    "\n",
    "A = 0.74  # Regression constants from Martin's Metabook which cites it from Raymer (2006, Table 3.1)\n",
    "C = -0.03\n",
    "\n",
    "while i > tol:\n",
    "    list_W0.append(W0)  # adding the current value of W0 to the list\n",
    "    We_W0 = A * (W0 ** C)  # formula for empty weight ratio - based on the current W0\n",
    "    W0_new = (weight_crew + weight_payload) / (1 - Wf_W0 - We_W0)  # calculating the new takeoff gross weight\n",
    "    i = abs(W0_new - W0) / abs(W0_new)  # finding the difference between the last and current iteration of W0\n",
    "    W0 = W0_new  # updating the takeoff gross weight\n",
    "\n",
    "We = We_W0 * W0\n",
    "\n",
    "print(\"Empty weight: \" + str(round(We, 3)) + \" lbs\")  # outputting the numerical value for the empty weight\n",
    "print(\"Regression's empty weight fraction (We/W0): \" + str(round(We_W0, 3)))  # if needed for further analysis\n",
    "\n",
    "print(\"Takeoff Gross Weight (TOGW): \" + str(round(W0)) + \" lbs\")  # outputting the takeoff gross weight as calculated from our model"
   ]
  }
 ],
 "metadata": {
  "kernelspec": {
   "display_name": "base",
   "language": "python",
   "name": "python3"
  },
  "language_info": {
   "codemirror_mode": {
    "name": "ipython",
    "version": 3
   },
   "file_extension": ".py",
   "mimetype": "text/x-python",
   "name": "python",
   "nbconvert_exporter": "python",
   "pygments_lexer": "ipython3",
   "version": "3.12.7"
  }
 },
 "nbformat": 4,
 "nbformat_minor": 2
}
