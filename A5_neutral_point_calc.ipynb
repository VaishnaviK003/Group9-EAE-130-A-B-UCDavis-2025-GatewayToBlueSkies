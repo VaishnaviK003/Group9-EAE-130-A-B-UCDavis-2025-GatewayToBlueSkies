{
 "cells": [
  {
   "cell_type": "code",
   "execution_count": 16,
   "metadata": {},
   "outputs": [
    {
     "name": "stdout",
     "output_type": "stream",
     "text": [
      "Estimated Vertical Tail Area (ft^2): 54.05\n",
      "Estimated Horizontal Tail Area (ft^2): 80.0\n",
      "Actual Vertical Tail Area (ft^2): 42\n",
      "Actual Horizontal Tail Area (ft^2): 85.5\n"
     ]
    }
   ],
   "source": [
    "import math\n",
    "import numpy as np\n",
    "import matplotlib.pyplot as plt\n",
    "\n",
    "\n",
    "# Metabook pg.76 for xcg estimations \n",
    "\n",
    "L_f = 40 # ft - fuselage length\n",
    "W_f = 5 # 6.2 # ft - fuselage width\n",
    "C_VT = 0.04 # vertical tail volume coefficient - fixed\n",
    "#L_VT = 15 # L_f - 11.7 # ft 31.65 # ft vertical tail moment arm\n",
    "#S_VT = 100 # vertical tail planform area\n",
    "b_W = 60 # 60 #56 # ft # 60.90 # wing span (tip-to-tip) - fixed\n",
    "C_HT = 0.5 # horizontal tail volume coefficient - fixed\n",
    "#L_HT = 15 # L_f - 11.7  # horizontal tail at the same location as vertical tail\n",
    "# ft 32.95 # ft horizontal tail moment arm\n",
    "#S_HT = 50 # horizontal tail planform area\n",
    "c_W = 7 # ft 8.75 # wing mean chord - fixed\n",
    "S_W = b_W*c_W # ft^2 # 427.8 # wing area - fixed\n",
    "\n",
    "\n",
    "# Empennage\n",
    "L_vt = 1 + 17.651 # ft\n",
    "\n",
    "# Wing\n",
    "b_w = b_W # ft\n",
    "c_w = c_W # ft\n",
    "S_w = S_W # ft^2\n",
    "\n",
    "# Tail\n",
    "L_ht = 1 + 17.375 # Calcuated later in the code\n",
    "\n",
    "# Estimated Vertical Tail Area (ft^2)\n",
    "S_vt = (C_VT * b_w * S_w) / L_vt \n",
    "\n",
    "# Estimated Horizontal Tail Area (ft^2)\n",
    "S_ht = (C_HT * c_w * S_w) / L_ht\n",
    "\n",
    "# Actual vertical and horizontal tail areas (ft^2)\n",
    "S_vt_actual = 42 # ft^2 - actual vertical tail area from design or from AT602 data (?)\n",
    "S_ht_actual = 85.5 # ft^2 - actual horizontal tail area from design or from AT602 data (?)\n",
    "S_vt_actual = S_vt_actual\n",
    "S_ht_actual = S_ht_actual\n",
    "\n",
    "print(\"Estimated Vertical Tail Area (ft^2): \" + str(np.round(S_vt, 2)))\n",
    "print(\"Estimated Horizontal Tail Area (ft^2): \" + str(np.round(S_ht, 2)))\n",
    "print(\"Actual Vertical Tail Area (ft^2): \" + str(np.round(S_vt_actual, 2)))\n",
    "print(\"Actual Horizontal Tail Area (ft^2): \" + str(np.round(S_ht_actual, 2)))"
   ]
  },
  {
   "cell_type": "code",
   "execution_count": 17,
   "metadata": {},
   "outputs": [
    {
     "name": "stdout",
     "output_type": "stream",
     "text": [
      "17.375\n",
      "Lift curve slope of the wing (1/radians): 5.0201\n",
      "Lift curve slope of the tail (1/radians): 3.9978\n"
     ]
    }
   ],
   "source": [
    "# Longitudinal Stability (SM Estimations)\n",
    "\n",
    "# MAC of a rectangular wing\n",
    "#c_tip = 6\n",
    "#c_root = 6\n",
    "\n",
    "#taper_ratio = c_tip / c_root # pg. 61 of Metabook\n",
    "\n",
    "MAC_w = S_w / b_w # mean aerodynamic chord\n",
    "\n",
    "c_root = 7.5\n",
    "\n",
    "taper_ratio = 0.4133 # 3.1 / 7.5\n",
    "# MAC_t = (2/3) * (c_root * (1 + taper_ratio + taper_ratio**2) / (1 + taper_ratio)) # 4.5 # mean aerodynamic chord of vertical tail\n",
    "MAC_t = 4.5 # horizontal tail \n",
    "# print(str(c_w / b_w)) --> 0.1 hence Kf = 0.115 - pg. 89 of Metabook\n",
    "\n",
    "# the quarter point of the MAC is the approximate aerodynamic center of the wing - pg. 86 Metabook\n",
    "\n",
    "AC_w = 0.25 * MAC_w  # aerodynamic center of wing\n",
    "AC_t = 0.25 * MAC_t # aerodynamic center of tail\n",
    "\n",
    "# Horizontal Tail (ft)\n",
    "#L_ht = L_HT\n",
    "L_ht = 18 - AC_w + AC_t\n",
    "\n",
    "print(L_ht)\n",
    "\n",
    "# dClw_da = 0.16 # wing lift curve slope\n",
    "# dClt_da = 0.1 # tail lift curve slope\n",
    "AR_w = b_w / c_w # 8.67 # aspect ratio of the wing - fixed\n",
    "AR_t = 19 / 4.5 # 4.5 # aspect ratio of the tail - fixed\n",
    "\n",
    "# Constants to account for the difference between the \n",
    "# theoretical section lift curve slope of 2pi and the actual value\n",
    "\n",
    "eta_w = 0.97 # wing section lift curve difference \n",
    "eta_t = 0.97 # tail section lift curve difference \n",
    "\n",
    "del_w = 2 # 31.6 # sweep angle (deg)\n",
    "lambda_w = np.deg2rad(del_w)\n",
    "\n",
    "del_t = 0 # 35 # sweep angle (deg)\n",
    "lambda_t = np.deg2rad(del_t)\n",
    "\n",
    "Ma = 0.2772 # 0.87 # mach number for cruise speed\n",
    "\n",
    "# Lift curve slope of the wing (1/rad)\n",
    "CL_a_w = (2 * np.pi * AR_w) / (((2) + (np.sqrt(((( AR_w / eta_w )**2) * (1 + (np.tan(lambda_w))**2 - Ma**2)) + (4)))))\n",
    "\n",
    "# Lift curve slope of the tail (1/rad)\n",
    "CL_a_t0 = (2 * np.pi * AR_t) / (((2) + (np.sqrt(((( AR_t / eta_t )**2) * (1 + (np.tan(lambda_t))**2 - Ma**2)) + (4)))))\n",
    "\n",
    "print(\"Lift curve slope of the wing (1/radians): \" + str(round(CL_a_w, 4)))\n",
    "print(\"Lift curve slope of the tail (1/radians): \" + str(round(CL_a_t0, 4)))"
   ]
  },
  {
   "cell_type": "code",
   "execution_count": 18,
   "metadata": {},
   "outputs": [
    {
     "name": "stdout",
     "output_type": "stream",
     "text": [
      "Downwash (1/radians): 0.3729\n"
     ]
    }
   ],
   "source": [
    "# Downwash effects\n",
    "\n",
    "de_da = 2 * CL_a_w / (np.pi * AR_w)\n",
    "print(\"Downwash (1/radians): \" + str(round(de_da, 4)))"
   ]
  },
  {
   "cell_type": "code",
   "execution_count": 19,
   "metadata": {},
   "outputs": [
    {
     "name": "stdout",
     "output_type": "stream",
     "text": [
      "Lift curve slope of the horizontal tail corrected for downwash (1/radians): 2.432\n"
     ]
    }
   ],
   "source": [
    "# Correcting for downwash\n",
    "\n",
    "Cl_a_t = CL_a_t0 * (1 - de_da) * eta_t\n",
    "print(\"Lift curve slope of the horizontal tail corrected for downwash (1/radians): \" + str(round(Cl_a_t, 4)))"
   ]
  },
  {
   "cell_type": "code",
   "execution_count": 20,
   "metadata": {},
   "outputs": [
    {
     "name": "stdout",
     "output_type": "stream",
     "text": [
      "SM = 0.19925110752797284\n",
      "Neutral point of the aircraft from the nose end (ft):  14.89\n"
     ]
    }
   ],
   "source": [
    "\n",
    "# Fuselage\n",
    "\n",
    "K_f = 0.688 # emperical factor (estimated)\n",
    "\n",
    "Lf = L_f \n",
    "Wf = W_f \n",
    "\n",
    "dCmf_dCL = (K_f * (Wf ** 2) * Lf) / (S_w * MAC_w * CL_a_w)\n",
    "# print(dCmf_dCL)\n",
    "\n",
    "x_cg = 13.5 # 35 * 0.33 (approximately) # ft - Aircraft center of gravity assumed\n",
    "x_25MAC = 0.25 * MAC_w + 9.5 # ft - Distance from nose to 25% MAC assumed\n",
    "\n",
    "# Calcuating x_np - pg. 87 of metabook OR slides lec 11 slide 31\n",
    "# From the nose, the wing starts 9.5 feet to the right of the nose\n",
    "x_np = 13.5 + MAC_w * (((L_vt * S_ht) / (MAC_w * S_w)) * (Cl_a_t / CL_a_w) - ((dCmf_dCL)))\n",
    "\n",
    "\n",
    "# SM is the distance between CG and NP - lec 11 slide 42\n",
    "# SM = (x_cg - x_25MAC) / (c_w) - (Cl_a_t * S_ht * L_ht) / (CL_a_w * S_w * c_w) + dCmf_dCL / CL_a_w\n",
    "\n",
    "SM = (x_np - x_cg) / MAC_w\n",
    "print(\"SM = \" + str(SM))\n",
    "\n",
    "#x_np = (-SM) * MAC_w + x_cg\n",
    "print(\"Neutral point of the aircraft from the nose end (ft): \", str(np.round(x_np, 2)))\n"
   ]
  }
 ],
 "metadata": {
  "kernelspec": {
   "display_name": "base",
   "language": "python",
   "name": "python3"
  },
  "language_info": {
   "codemirror_mode": {
    "name": "ipython",
    "version": 3
   },
   "file_extension": ".py",
   "mimetype": "text/x-python",
   "name": "python",
   "nbconvert_exporter": "python",
   "pygments_lexer": "ipython3",
   "version": "3.12.4"
  }
 },
 "nbformat": 4,
 "nbformat_minor": 2
}
